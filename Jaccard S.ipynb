{
 "cells": [
  {
   "cell_type": "code",
   "execution_count": 1,
   "metadata": {},
   "outputs": [],
   "source": [
    "s1=set('NEW Fujifilm 16MP 5x Optical Zoom Point and Shoot CAMERA 2 7 screen.jpg'.split())\n"
   ]
  },
  {
   "cell_type": "code",
   "execution_count": 2,
   "metadata": {},
   "outputs": [
    {
     "data": {
      "text/plain": [
       "{'16MP',\n",
       " '2',\n",
       " '5x',\n",
       " '7',\n",
       " 'CAMERA',\n",
       " 'Fujifilm',\n",
       " 'NEW',\n",
       " 'Optical',\n",
       " 'Point',\n",
       " 'Shoot',\n",
       " 'Zoom',\n",
       " 'and',\n",
       " 'screen.jpg'}"
      ]
     },
     "execution_count": 2,
     "metadata": {},
     "output_type": "execute_result"
    }
   ],
   "source": [
    "s1"
   ]
  },
  {
   "cell_type": "code",
   "execution_count": 3,
   "metadata": {},
   "outputs": [
    {
     "data": {
      "text/plain": [
       "{'CAMERA', 'Fujifilm', 'Optical', 'Zoom'}"
      ]
     },
     "execution_count": 3,
     "metadata": {},
     "output_type": "execute_result"
    }
   ],
   "source": [
    "s2=set('Fujifilm Optical Zoom CAMERA NONE'.split())\n",
    "s1.intersection(s2)"
   ]
  },
  {
   "cell_type": "code",
   "execution_count": 19,
   "metadata": {},
   "outputs": [],
   "source": [
    "def jaccard(a,b):\n",
    "    a=a.split(',')\n",
    "    b=b.split(',')\n",
    "    union = list(set(a+b))\n",
    "    intersection = list(set(a) - (set(a)-set(b)))\n",
    "    print (\"Union - \" , union)\n",
    "    print (\"Intersection - \", intersection)\n",
    "    jaccard_coeff = float(len(intersection))/len(union)\n",
    "    print (\"Jaccard Coefficient is =  \" , jaccard_coeff)"
   ]
  },
  {
   "cell_type": "code",
   "execution_count": 20,
   "metadata": {},
   "outputs": [
    {
     "name": "stdout",
     "output_type": "stream",
     "text": [
      "Union -  ['d', 'dee', 'c', 'a', 'b']\n",
      "Intersection -  ['a', 'dee']\n",
      "Jaccard Coefficient is =   0.4\n"
     ]
    }
   ],
   "source": [
    "jaccard( ('a,b,c,d,dee'),('dee,a'))"
   ]
  },
  {
   "cell_type": "code",
   "execution_count": 25,
   "metadata": {
    "scrolled": true
   },
   "outputs": [],
   "source": [
    "aa= \"\"\"\n",
    "Alien DatabaseOpen \n",
    ",Periodic TableCloseMain \n",
    ",NotebookOpenMain\n",
    ",NotebookOpenMain\n",
    ",SpectraCloseMain\n",
    ",NotebookCloseMain\n",
    ",ConceptsOpenMain\n",
    ",ConceptsOpenMain\n",
    ",ConceptsCloseMain\n",
    ",NotebookCloseMain\n",
    ",ConceptsCloseMain\n",
    ",SpectraOpenMain\n",
    ",ConceptsCloseMain\n",
    ",Periodic TableOpenMain\n",
    ",ConceptsOpenMain\n",
    ",Probe DesignOpen\n",
    ",Communication CenterOpen\n",
    ",Communication CenterClose\n",
    ",Mission ControlClick Probe: landerPluto expierment\n",
    ",Mission ControlOpen\n",
    ",Mission ControlClose\n",
    ",Communication CenterOpen\n",
    "\"\"\"\n"
   ]
  },
  {
   "cell_type": "code",
   "execution_count": 26,
   "metadata": {},
   "outputs": [],
   "source": [
    "bb = \"\"\"\n",
    "Alien DatabaseOpen\n",
    ",SpectraOpenMain\n",
    ",SpectraOpenMain\n",
    ",Periodic TableOpenMain\n",
    ",SpectraCloseMain\n",
    ",SpectraCloseMain\n",
    ",Periodic TableCloseMain\n",
    ",Probe DesignOpen\n",
    ",Periodic TableOpenMain\n",
    ",ConceptsOpenMain\n",
    ",Periodic TableCloseMain\n",
    ",ConceptsCloseMain\n",
    ",ConceptsOpenMain\n",
    ",SpectraOpenMain\n",
    ",SpectraCloseMain\n",
    ",Missions DatabaseOpenMain\n",
    ",Missions DatabaseCloseMain\n",
    ",ConceptsCloseMain\n",
    ",Solar System DBOpenMain\n",
    ",Solar System DBCloseMain\n",
    ",Solar System DBCloseMain\n",
    ",Solar System DBOpenMain\n",
    ",Probe DesignClose\n",
    ",NotebookOpenMain\n",
    ",NotebookCloseMain\n",
    ",NotebookOpenMain\n",
    ",Missions DatabaseOpenMain\n",
    ",ConceptsOpenMain\n",
    ",Alien DatabaseOpen\n",
    ",Missions DatabaseCloseMain\n",
    ",ConceptsCloseMain\n",
    ",Missions DatabaseCloseMain\n",
    ",NotebookCloseMain\n",
    ",Missions DatabaseOpenMain\n",
    ",Alien DatabaseClose\n",
    ",Alien DatabaseOpen\n",
    ",Alien DatabaseClose\n",
    ",Probe DesignOpen\n",
    ",Alien DatabaseOpen\n",
    ",Alien DatabaseClose\n",
    ",Probe DesignOpen\n",
    ",Probe DesignClose\n",
    ",Communication CenterOpen\n",
    ",Communication CenterClose\n",
    ",Mission ControlClick Probe: landerPluto expiriment\n",
    ",Mission ControlOpen\n",
    ",Mission ControlClose\n",
    ",Communication CenterOpen\n",
    "\"\"\""
   ]
  },
  {
   "cell_type": "code",
   "execution_count": 27,
   "metadata": {},
   "outputs": [
    {
     "name": "stdout",
     "output_type": "stream",
     "text": [
      "Union -  ['ConceptsOpenMain\\n', 'Communication CenterClose\\n', 'Communication CenterOpen\\n', 'Mission ControlOpen\\n', 'Mission ControlClick Probe: landerPluto expiriment\\n', 'SpectraOpenMain\\n', 'Solar System DBOpenMain\\n', 'Periodic TableOpenMain\\n', 'Periodic TableCloseMain\\n', 'NotebookOpenMain\\n', '\\nAlien DatabaseOpen\\n', 'Missions DatabaseOpenMain\\n', 'Mission ControlClose\\n', 'Alien DatabaseClose\\n', 'Alien DatabaseOpen\\n', 'NotebookCloseMain\\n', '\\nAlien DatabaseOpen \\n', 'Mission ControlClick Probe: landerPluto expierment\\n', 'Probe DesignClose\\n', 'Solar System DBCloseMain\\n', 'SpectraCloseMain\\n', 'Periodic TableCloseMain \\n', 'Missions DatabaseCloseMain\\n', 'Probe DesignOpen\\n', 'ConceptsCloseMain\\n']\n",
      "Intersection -  ['NotebookCloseMain\\n', 'Periodic TableOpenMain\\n', 'Communication CenterClose\\n', 'ConceptsOpenMain\\n', 'NotebookOpenMain\\n', 'SpectraCloseMain\\n', 'Communication CenterOpen\\n', 'Mission ControlClose\\n', 'Mission ControlOpen\\n', 'Probe DesignOpen\\n', 'ConceptsCloseMain\\n', 'SpectraOpenMain\\n']\n",
      "Jaccard Coefficient is =   0.48\n"
     ]
    }
   ],
   "source": [
    "jaccard(aa,bb)"
   ]
  }
 ],
 "metadata": {
  "kernelspec": {
   "display_name": "Python 3",
   "language": "python",
   "name": "python3"
  },
  "language_info": {
   "codemirror_mode": {
    "name": "ipython",
    "version": 3
   },
   "file_extension": ".py",
   "mimetype": "text/x-python",
   "name": "python",
   "nbconvert_exporter": "python",
   "pygments_lexer": "ipython3",
   "version": "3.6.4"
  }
 },
 "nbformat": 4,
 "nbformat_minor": 2
}
